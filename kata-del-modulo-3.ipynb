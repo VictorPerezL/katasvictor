{
 "cells": [
  {
   "cell_type": "markdown",
   "metadata": {},
   "source": [
    "# Escribir declaraciones if, else y elif\n",
    "\n",
    "Para este ejercicio, escribiras una logica condicional que imprima una advertencia si un asteroide se acerca a la tierra demasiado rapido. la velocidad del asteroide varia dependiendo de lo cerca que este del sol, y cualquier velocidad superior a 25 kilometros por segundo (km/s) merece una advertencia.\n",
    "\n",
    "Un asteroide se acerca, y viaja a una velocidad de 49 km/s"
   ]
  },
  {
   "cell_type": "code",
   "execution_count": null,
   "metadata": {},
   "outputs": [],
   "source": [
    "asteroide = 49\n",
    "veladvertencia = 25\n",
    "\n",
    "if asteroide > veladvertencia:\n",
    "    print('Advertencia el asteroide viaja a ' + str(asteroide) + ' km/s se acerca rapido a la Tierra.')\n",
    "else:\n",
    "    print('El asteroide no es un peligro para la Tierra ya que viaja a ' + str(asteroide) + ' km/s.')"
   ]
  },
  {
   "cell_type": "markdown",
   "metadata": {},
   "source": [
    "# Condiciones if, else y elif\n",
    "\n",
    "Si un asteroide entra en la atmosfera de la Tierra a una velocidad mayor o igual a 20 km/h, a veces produce un rayo de luz que se puede ver desde la Tierra. Escribir para alertar a las personas de todo el mundo que debe de buscar un asteroide en el cielo.\n",
    "\n",
    "Hay uno que se dirije a la tierra a 19 km/s."
   ]
  },
  {
   "cell_type": "code",
   "execution_count": null,
   "metadata": {},
   "outputs": [],
   "source": [
    "asteroide = 20\n",
    "\n",
    "if asteroide > 20:\n",
    "    print('Ver el cielo, que hay un asteroide!!!')\n",
    "elif asteroide == 20:\n",
    "    print('Ver el cielo, que hay un asteroide!!!')\n",
    "else:\n",
    "    print('No hay nada que ver')"
   ]
  },
  {
   "cell_type": "markdown",
   "metadata": {},
   "source": [
    "# Uso de operadores and y or\n",
    "\n",
    "Los asteroides de menor de 25 metros en su dimension mas grande probablemente se quemaran a medida que entren en la atmosfera de la Tierra.\n",
    "\n",
    "   Si una pieza de un asteroide que es mas grande que 25 metros pero mas pequena que 1000 metros golpeara la tierra, causaria mucho dano. "
   ]
  },
  {
   "cell_type": "code",
   "execution_count": null,
   "metadata": {},
   "outputs": [],
   "source": [
    "velAsteroide = 49\n",
    "dimAsteroide = 25\n",
    "\n",
    "if velAsteroide > 25 and dimAsteroide > 25:\n",
    "    print('Advertencia el asteroide se acerca perligrosamente a la Tierra. Ya que tiene una dimension de ' + str(dimAsteroide) + ' mts y tiene una velocidad de ' + str(velAsteroide) + ' km/s.')\n",
    "elif velAsteroide >= 20:\n",
    "    print('Ver el cielo que hay un asteroide, este se desintegrara al entrar a la atmosfera ya que tiene una dimension de ' + str(dimAsteroide) + ' mts.')\n",
    "elif dimAsteroide < 25:\n",
    "    print('No hay peligro para la Tierra.')\n",
    "else:\n",
    "    print('No hay nada que ver, ni tampoco peligro para la tierra')\n",
    "\n"
   ]
  }
 ],
 "metadata": {
  "interpreter": {
   "hash": "916dbcbb3f70747c44a77c7bcd40155683ae19c65e1c03b4aa3499c5328201f1"
  },
  "kernelspec": {
   "display_name": "Python 3.9.2 64-bit",
   "language": "python",
   "name": "python3"
  },
  "language_info": {
   "codemirror_mode": {
    "name": "ipython",
    "version": 3
   },
   "file_extension": ".py",
   "mimetype": "text/x-python",
   "name": "python",
   "nbconvert_exporter": "python",
   "pygments_lexer": "ipython3",
   "version": "3.9.2"
  },
  "orig_nbformat": 4
 },
 "nbformat": 4,
 "nbformat_minor": 2
}
